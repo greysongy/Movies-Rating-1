{
 "cells": [
  {
   "cell_type": "markdown",
   "metadata": {},
   "source": [
    "# Predicting Movies Rating\n",
    "\n",
    "## Introduction"
   ]
  },
  {
   "cell_type": "markdown",
   "metadata": {},
   "source": [
    "The object of this Captstone Project was to predict movie rating using about 45,000 observations across 90 features. Although the label - movie rating - was originally a categorical variable consisting of entries between 0.5 and 5 incrementing by 0.5, it initially had 26 million rows across some 270,000 different critics, each of who reviewed on average around 580 movies. Once I group by movie id using the mean of the ratings, the label became a quasi-continuous variable of 44,800 movies and was used as such until rating was finally rounded off to the nearest half-integer at the very end of all the modeling. The data can be found across several CSV files at this link:  (https://www.kaggle.com/rounakbanik/the-movies-dataset). "
   ]
  },
  {
   "cell_type": "markdown",
   "metadata": {},
   "source": [
    "## Data Cleaning "
   ]
  },
  {
   "cell_type": "markdown",
   "metadata": {},
   "source": [
    "The first, and longest, step of this project was to clean the data. Normally, this mainly means deciding how to handle NaN values, but for this project in included several other steps, including: merging the dataframes, string replacement and deletion, feature type coercion, dropping redundant columns, creating dummy variables, and THEN imputing missing values. \n",
    "\n",
    "Since the process was so long, and because Imputation is a growing facet of data science that I believe should be considered separate from data cleaning, I will first walk through the cleaning process and then the Imputation process in a separate section"
   ]
  },
  {
   "cell_type": "markdown",
   "metadata": {},
   "source": [
    "Once the data had been been aside from NaN values, I wrote a new CSV file to save my work. "
   ]
  },
  {
   "cell_type": "markdown",
   "metadata": {},
   "source": [
    "## Imputation Using AutoImpute\n",
    "\n",
    "AutoImpute "
   ]
  },
  {
   "cell_type": "markdown",
   "metadata": {},
   "source": [
    "## Data Visualization"
   ]
  },
  {
   "cell_type": "markdown",
   "metadata": {},
   "source": [
    "## Modeling "
   ]
  },
  {
   "cell_type": "markdown",
   "metadata": {},
   "source": [
    "### Model Results"
   ]
  },
  {
   "cell_type": "markdown",
   "metadata": {},
   "source": [
    "# Results Discussion"
   ]
  }
 ],
 "metadata": {
  "kernelspec": {
   "display_name": "Python 3",
   "language": "python",
   "name": "python3"
  },
  "language_info": {
   "codemirror_mode": {
    "name": "ipython",
    "version": 3
   },
   "file_extension": ".py",
   "mimetype": "text/x-python",
   "name": "python",
   "nbconvert_exporter": "python",
   "pygments_lexer": "ipython3",
   "version": "3.7.7"
  }
 },
 "nbformat": 4,
 "nbformat_minor": 4
}
